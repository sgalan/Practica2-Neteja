{
 "cells": [
  {
   "cell_type": "markdown",
   "metadata": {},
   "source": [
    "# Pràctica 2- Efecte de les característiques de les pel·lícules a la seva durada"
   ]
  },
  {
   "cell_type": "markdown",
   "metadata": {},
   "source": [
    "### Taula de continguts\n",
    "\n",
    "* [Neteja de les dades](#neteja_de_les_dades)\n",
    "    * [Selecció dades interès](#selecció_dades_interès)\n",
    "    * [Identificació zeros i elements buits](#identificació_zeros_i_elements_buits)\n",
    "    * [Identificació valors extrems](#identificació_valors_extrems)\n",
    "    * [Identificació valors sentinella](#identificació_valors_sentinella)\n",
    "    * [Transformació de variables](#transformació_de_variables)\n",
    "        * [Country](#country)\n",
    "        * [Language](#language)\n",
    "        * [Year](#year)\n",
    "        * [Genres](#genres)\n",
    "    * [One-hot encoding variables categòriques](#one_hot_encoding_variables_categòriques)\n",
    "    * [Exportació dades processades](#exportació_dades_processades) \n",
    "    \n",
    "* [Anàlisi de dades](#anàlisi_de_dades)\n",
    "    * [Selecció de grups](#selecció_de_grups)\n",
    "    * [Comprovació normalitat i homogeneïtat de la variància](#comprovació_normalitat_i_homogeneïtat_de_la_variància)\n",
    "\n",
    "* [Proves estadístiques](#proves_estadístiques)\n",
    "    * [Correlació variables amb la variable duració](#correlació_variables)\n"
   ]
  },
  {
   "cell_type": "code",
   "execution_count": 116,
   "metadata": {},
   "outputs": [],
   "source": [
    "%matplotlib inline\n",
    "import pandas as pd\n",
    "import matplotlib.pyplot as plt\n",
    "import seaborn as sns\n",
    "import numpy as np\n",
    "from scipy import stats\n",
    "from sklearn.impute import KNNImputer\n",
    "import operator\n",
    "from scipy.stats.stats import pearsonr"
   ]
  },
  {
   "cell_type": "markdown",
   "metadata": {},
   "source": [
    "### Neteja de les dades <a class=\"anchor\" id=\"neteja_de_les_dades\"></a>"
   ]
  },
  {
   "cell_type": "code",
   "execution_count": 88,
   "metadata": {},
   "outputs": [],
   "source": [
    "# Load movie dataframe\n",
    "\n",
    "df = pd.read_excel('movie.xlsx', skiprows=[0])"
   ]
  },
  {
   "cell_type": "code",
   "execution_count": 89,
   "metadata": {
    "scrolled": false
   },
   "outputs": [
    {
     "data": {
      "text/html": [
       "<div>\n",
       "<style scoped>\n",
       "    .dataframe tbody tr th:only-of-type {\n",
       "        vertical-align: middle;\n",
       "    }\n",
       "\n",
       "    .dataframe tbody tr th {\n",
       "        vertical-align: top;\n",
       "    }\n",
       "\n",
       "    .dataframe thead th {\n",
       "        text-align: right;\n",
       "    }\n",
       "</style>\n",
       "<table border=\"1\" class=\"dataframe\">\n",
       "  <thead>\n",
       "    <tr style=\"text-align: right;\">\n",
       "      <th></th>\n",
       "      <th>color</th>\n",
       "      <th>director_name</th>\n",
       "      <th>num_critic_for_reviews</th>\n",
       "      <th>duration</th>\n",
       "      <th>director_facebook_likes</th>\n",
       "      <th>actor_3_facebook_likes</th>\n",
       "      <th>actor_2_name</th>\n",
       "      <th>actor_1_facebook_likes</th>\n",
       "      <th>gross</th>\n",
       "      <th>genres</th>\n",
       "      <th>...</th>\n",
       "      <th>num_user_for_reviews</th>\n",
       "      <th>language</th>\n",
       "      <th>country</th>\n",
       "      <th>content_rating</th>\n",
       "      <th>budget</th>\n",
       "      <th>title_year</th>\n",
       "      <th>actor_2_facebook_likes</th>\n",
       "      <th>imdb_score</th>\n",
       "      <th>aspect_ratio</th>\n",
       "      <th>movie_facebook_likes</th>\n",
       "    </tr>\n",
       "  </thead>\n",
       "  <tbody>\n",
       "    <tr>\n",
       "      <th>0</th>\n",
       "      <td>Color</td>\n",
       "      <td>James Cameron</td>\n",
       "      <td>723.0</td>\n",
       "      <td>178.0</td>\n",
       "      <td>0.0</td>\n",
       "      <td>855.0</td>\n",
       "      <td>Joel David Moore</td>\n",
       "      <td>1000.0</td>\n",
       "      <td>760505847.0</td>\n",
       "      <td>Action|Adventure|Fantasy|Sci-Fi</td>\n",
       "      <td>...</td>\n",
       "      <td>3054.0</td>\n",
       "      <td>English</td>\n",
       "      <td>USA</td>\n",
       "      <td>PG-13</td>\n",
       "      <td>237000000.0</td>\n",
       "      <td>2009.0</td>\n",
       "      <td>936.0</td>\n",
       "      <td>7.9</td>\n",
       "      <td>1.78</td>\n",
       "      <td>33000</td>\n",
       "    </tr>\n",
       "    <tr>\n",
       "      <th>1</th>\n",
       "      <td>Color</td>\n",
       "      <td>Gore Verbinski</td>\n",
       "      <td>302.0</td>\n",
       "      <td>169.0</td>\n",
       "      <td>563.0</td>\n",
       "      <td>1000.0</td>\n",
       "      <td>Orlando Bloom</td>\n",
       "      <td>40000.0</td>\n",
       "      <td>309404152.0</td>\n",
       "      <td>Action|Adventure|Fantasy</td>\n",
       "      <td>...</td>\n",
       "      <td>1238.0</td>\n",
       "      <td>English</td>\n",
       "      <td>USA</td>\n",
       "      <td>PG-13</td>\n",
       "      <td>300000000.0</td>\n",
       "      <td>2007.0</td>\n",
       "      <td>5000.0</td>\n",
       "      <td>7.1</td>\n",
       "      <td>2.35</td>\n",
       "      <td>0</td>\n",
       "    </tr>\n",
       "    <tr>\n",
       "      <th>2</th>\n",
       "      <td>Color</td>\n",
       "      <td>Sam Mendes</td>\n",
       "      <td>602.0</td>\n",
       "      <td>148.0</td>\n",
       "      <td>0.0</td>\n",
       "      <td>161.0</td>\n",
       "      <td>Rory Kinnear</td>\n",
       "      <td>11000.0</td>\n",
       "      <td>200074175.0</td>\n",
       "      <td>Action|Adventure|Thriller</td>\n",
       "      <td>...</td>\n",
       "      <td>994.0</td>\n",
       "      <td>English</td>\n",
       "      <td>UK</td>\n",
       "      <td>PG-13</td>\n",
       "      <td>245000000.0</td>\n",
       "      <td>2015.0</td>\n",
       "      <td>393.0</td>\n",
       "      <td>6.8</td>\n",
       "      <td>2.35</td>\n",
       "      <td>85000</td>\n",
       "    </tr>\n",
       "    <tr>\n",
       "      <th>3</th>\n",
       "      <td>Color</td>\n",
       "      <td>Christopher Nolan</td>\n",
       "      <td>813.0</td>\n",
       "      <td>164.0</td>\n",
       "      <td>22000.0</td>\n",
       "      <td>23000.0</td>\n",
       "      <td>Christian Bale</td>\n",
       "      <td>27000.0</td>\n",
       "      <td>448130642.0</td>\n",
       "      <td>Action|Thriller</td>\n",
       "      <td>...</td>\n",
       "      <td>2701.0</td>\n",
       "      <td>English</td>\n",
       "      <td>USA</td>\n",
       "      <td>PG-13</td>\n",
       "      <td>250000000.0</td>\n",
       "      <td>2012.0</td>\n",
       "      <td>23000.0</td>\n",
       "      <td>8.5</td>\n",
       "      <td>2.35</td>\n",
       "      <td>164000</td>\n",
       "    </tr>\n",
       "    <tr>\n",
       "      <th>4</th>\n",
       "      <td>NaN</td>\n",
       "      <td>Doug Walker</td>\n",
       "      <td>NaN</td>\n",
       "      <td>NaN</td>\n",
       "      <td>131.0</td>\n",
       "      <td>NaN</td>\n",
       "      <td>Rob Walker</td>\n",
       "      <td>131.0</td>\n",
       "      <td>NaN</td>\n",
       "      <td>Documentary</td>\n",
       "      <td>...</td>\n",
       "      <td>NaN</td>\n",
       "      <td>NaN</td>\n",
       "      <td>NaN</td>\n",
       "      <td>NaN</td>\n",
       "      <td>NaN</td>\n",
       "      <td>NaN</td>\n",
       "      <td>12.0</td>\n",
       "      <td>7.1</td>\n",
       "      <td>NaN</td>\n",
       "      <td>0</td>\n",
       "    </tr>\n",
       "  </tbody>\n",
       "</table>\n",
       "<p>5 rows × 28 columns</p>\n",
       "</div>"
      ],
      "text/plain": [
       "   color      director_name  num_critic_for_reviews  duration  \\\n",
       "0  Color      James Cameron                   723.0     178.0   \n",
       "1  Color     Gore Verbinski                   302.0     169.0   \n",
       "2  Color         Sam Mendes                   602.0     148.0   \n",
       "3  Color  Christopher Nolan                   813.0     164.0   \n",
       "4    NaN        Doug Walker                     NaN       NaN   \n",
       "\n",
       "   director_facebook_likes  actor_3_facebook_likes      actor_2_name  \\\n",
       "0                      0.0                   855.0  Joel David Moore   \n",
       "1                    563.0                  1000.0     Orlando Bloom   \n",
       "2                      0.0                   161.0      Rory Kinnear   \n",
       "3                  22000.0                 23000.0    Christian Bale   \n",
       "4                    131.0                     NaN        Rob Walker   \n",
       "\n",
       "   actor_1_facebook_likes        gross                           genres  ...  \\\n",
       "0                  1000.0  760505847.0  Action|Adventure|Fantasy|Sci-Fi  ...   \n",
       "1                 40000.0  309404152.0         Action|Adventure|Fantasy  ...   \n",
       "2                 11000.0  200074175.0        Action|Adventure|Thriller  ...   \n",
       "3                 27000.0  448130642.0                  Action|Thriller  ...   \n",
       "4                   131.0          NaN                      Documentary  ...   \n",
       "\n",
       "  num_user_for_reviews language  country  content_rating       budget  \\\n",
       "0               3054.0  English      USA           PG-13  237000000.0   \n",
       "1               1238.0  English      USA           PG-13  300000000.0   \n",
       "2                994.0  English       UK           PG-13  245000000.0   \n",
       "3               2701.0  English      USA           PG-13  250000000.0   \n",
       "4                  NaN      NaN      NaN             NaN          NaN   \n",
       "\n",
       "   title_year actor_2_facebook_likes imdb_score  aspect_ratio  \\\n",
       "0      2009.0                  936.0        7.9          1.78   \n",
       "1      2007.0                 5000.0        7.1          2.35   \n",
       "2      2015.0                  393.0        6.8          2.35   \n",
       "3      2012.0                23000.0        8.5          2.35   \n",
       "4         NaN                   12.0        7.1           NaN   \n",
       "\n",
       "  movie_facebook_likes  \n",
       "0                33000  \n",
       "1                    0  \n",
       "2                85000  \n",
       "3               164000  \n",
       "4                    0  \n",
       "\n",
       "[5 rows x 28 columns]"
      ]
     },
     "execution_count": 89,
     "metadata": {},
     "output_type": "execute_result"
    }
   ],
   "source": [
    "# Overview dataframe\n",
    "\n",
    "df.head()"
   ]
  },
  {
   "cell_type": "code",
   "execution_count": 90,
   "metadata": {},
   "outputs": [
    {
     "data": {
      "text/plain": [
       "color                         object\n",
       "director_name                 object\n",
       "num_critic_for_reviews       float64\n",
       "duration                     float64\n",
       "director_facebook_likes      float64\n",
       "actor_3_facebook_likes       float64\n",
       "actor_2_name                  object\n",
       "actor_1_facebook_likes       float64\n",
       "gross                        float64\n",
       "genres                        object\n",
       "actor_1_name                  object\n",
       "movie_title                   object\n",
       "num_voted_users                int64\n",
       "cast_total_facebook_likes      int64\n",
       "actor_3_name                  object\n",
       "facenumber_in_poster         float64\n",
       "plot_keywords                 object\n",
       "movie_imdb_link               object\n",
       "num_user_for_reviews         float64\n",
       "language                      object\n",
       "country                       object\n",
       "content_rating                object\n",
       "budget                       float64\n",
       "title_year                   float64\n",
       "actor_2_facebook_likes       float64\n",
       "imdb_score                   float64\n",
       "aspect_ratio                 float64\n",
       "movie_facebook_likes           int64\n",
       "dtype: object"
      ]
     },
     "execution_count": 90,
     "metadata": {},
     "output_type": "execute_result"
    }
   ],
   "source": [
    "df.dtypes"
   ]
  },
  {
   "cell_type": "markdown",
   "metadata": {},
   "source": [
    "#### Selecció dades interès <a class=\"anchor\" id=\"selecció_dades_interès\"></a>"
   ]
  },
  {
   "cell_type": "code",
   "execution_count": 91,
   "metadata": {},
   "outputs": [],
   "source": [
    "keep = ['color', 'num_critic_for_reviews', 'duration', 'director_facebook_likes', \n",
    "        'actor_3_facebook_likes', 'actor_2_facebook_likes', 'actor_1_facebook_likes', 'gross', 'genres',\n",
    "        'num_voted_users', 'cast_total_facebook_likes', 'num_user_for_reviews', 'language', 'country',\n",
    "        'budget', 'title_year', 'imdb_score', 'aspect_ratio', 'movie_facebook_likes']\n",
    "\n",
    "filtered_df = df[keep]"
   ]
  },
  {
   "cell_type": "markdown",
   "metadata": {},
   "source": [
    "#### Identificació zeros i elements buits <a class=\"anchor\" id=\"identificació_zeros_i_elements_buits\"></a>"
   ]
  },
  {
   "cell_type": "code",
   "execution_count": 93,
   "metadata": {},
   "outputs": [
    {
     "name": "stdout",
     "output_type": "stream",
     "text": [
      "color 19\n",
      "num_critic_for_reviews 50\n",
      "duration 15\n",
      "director_facebook_likes 104\n",
      "actor_3_facebook_likes 23\n",
      "actor_2_facebook_likes 13\n",
      "actor_1_facebook_likes 7\n",
      "gross 884\n",
      "genres 0\n",
      "num_voted_users 0\n",
      "cast_total_facebook_likes 0\n",
      "num_user_for_reviews 21\n",
      "language 12\n",
      "country 5\n",
      "budget 492\n",
      "title_year 108\n",
      "imdb_score 0\n",
      "aspect_ratio 329\n",
      "movie_facebook_likes 0\n"
     ]
    }
   ],
   "source": [
    "# Sum of NaN\n",
    "\n",
    "for l in filtered_df.columns:\n",
    "    count = filtered_df[l].isna().sum()\n",
    "    print (l, count)"
   ]
  },
  {
   "cell_type": "code",
   "execution_count": 94,
   "metadata": {},
   "outputs": [
    {
     "name": "stdout",
     "output_type": "stream",
     "text": [
      "color 0\n",
      "num_critic_for_reviews 40\n",
      "duration 12\n",
      "director_facebook_likes 0\n",
      "actor_3_facebook_likes 18\n",
      "actor_2_facebook_likes 10\n",
      "actor_1_facebook_likes 7\n",
      "gross 762\n",
      "genres 0\n",
      "num_voted_users 0\n",
      "cast_total_facebook_likes 0\n",
      "num_user_for_reviews 15\n",
      "language 0\n",
      "country 0\n",
      "budget 391\n",
      "title_year 0\n",
      "imdb_score 0\n",
      "aspect_ratio 297\n",
      "movie_facebook_likes 0\n",
      "(4913, 19)\n"
     ]
    }
   ],
   "source": [
    "# remove NA from director_name, genres, language, country, color\n",
    "\n",
    "remove_cols = ['genres', 'language', 'country', 'color','title_year']\n",
    "for r in remove_cols:\n",
    "    filtered_df = filtered_df[filtered_df[r].notna()]\n",
    "\n",
    "for l in filtered_df.columns:\n",
    "    count = filtered_df[l].isna().sum()\n",
    "    print (l, count)\n",
    "    \n",
    "print (np.shape(filtered_df))"
   ]
  },
  {
   "cell_type": "code",
   "execution_count": 95,
   "metadata": {
    "scrolled": false
   },
   "outputs": [
    {
     "name": "stdout",
     "output_type": "stream",
     "text": [
      "color 0\n",
      "num_critic_for_reviews 0\n",
      "duration 0\n",
      "director_facebook_likes 0\n",
      "actor_3_facebook_likes 0\n",
      "actor_2_facebook_likes 0\n",
      "actor_1_facebook_likes 0\n",
      "gross 0\n",
      "genres 0\n",
      "num_voted_users 0\n",
      "cast_total_facebook_likes 0\n",
      "num_user_for_reviews 0\n",
      "language 0\n",
      "country 0\n",
      "budget 0\n",
      "title_year 0\n",
      "imdb_score 0\n",
      "aspect_ratio 0\n",
      "movie_facebook_likes 0\n",
      "(4913, 19)\n"
     ]
    }
   ],
   "source": [
    "# manage missing numerical values\n",
    "\n",
    "num_cols = ['num_critic_for_reviews', 'duration', 'actor_3_facebook_likes', 'actor_2_facebook_likes', \n",
    "           'actor_1_facebook_likes', 'gross', 'num_user_for_reviews', 'budget', 'aspect_ratio']\n",
    "\n",
    "imputer_KNN = KNNImputer(missing_values=np.nan, n_neighbors=3, weights=\"uniform\", metric=\"nan_euclidean\")\n",
    "\n",
    "for c in num_cols:\n",
    "    filtered_df[c] = imputer_KNN.fit_transform(filtered_df[c].values.reshape(-1, 1))\n",
    "\n",
    "for l in filtered_df.columns:\n",
    "    count = filtered_df[l].isna().sum()\n",
    "    print (l, count)\n",
    "    \n",
    "print (np.shape(filtered_df))"
   ]
  },
  {
   "cell_type": "markdown",
   "metadata": {},
   "source": [
    "#### Identificació valors extrems <a class=\"anchor\" id=\"identificació_valors_extrems\"></a>"
   ]
  },
  {
   "cell_type": "code",
   "execution_count": 96,
   "metadata": {},
   "outputs": [
    {
     "data": {
      "image/png": "[encoded data removed]",
      "text/plain": [
       "<Figure size 1080x1080 with 15 Axes>"
      ]
     },
     "metadata": {
      "needs_background": "light"
     },
     "output_type": "display_data"
    }
   ],
   "source": [
    "select_num = filtered_df.select_dtypes(include=['float64', 'int64'])\n",
    "colnames = list(select_num.columns)\n",
    "\n",
    "fig, axes = plt.subplots(nrows = int(np.shape(select_num)[1]/3), ncols = 3, figsize=(15,15))\n",
    "y = 0\n",
    "for name in colnames:\n",
    "    i, j = divmod(y, 3)\n",
    "    sns.boxplot(x=filtered_df[name], ax=axes[i, j])\n",
    "    Q1 = filtered_df[name].quantile(0.25)\n",
    "    Q3 = filtered_df[name].quantile(0.75)\n",
    "    IQR = Q3 - Q1\n",
    "    \n",
    "    outliers_lower = filtered_df[name] < (Q1 - 1.5 * IQR)\n",
    "    outlier_higher = filtered_df[name] > (Q3 + 1.5 * IQR)\n",
    "    title = 'IQR of column:', IQR, 'Number of outliers: ',sum(outliers_lower) + sum(outlier_higher)\n",
    "    axes[i,j].set_title(title)\n",
    "\n",
    "    y = y + 1\n",
    "\n",
    "plt.tight_layout()\n",
    "plt.show()"
   ]
  },
  {
   "cell_type": "markdown",
   "metadata": {},
   "source": [
    "#### Identificació valors sentinella <a class=\"anchor\" id=\"identificació_valors_sentinella\"></a>"
   ]
  },
  {
   "cell_type": "code",
   "execution_count": 98,
   "metadata": {},
   "outputs": [
    {
     "data": {
      "image/png": "[encoded data removed]",
      "text/plain": [
       "<Figure size 1080x1080 with 15 Axes>"
      ]
     },
     "metadata": {
      "needs_background": "light"
     },
     "output_type": "display_data"
    }
   ],
   "source": [
    "select_num = filtered_df.select_dtypes(include=['float64', 'int64'])\n",
    "colnames = list(select_num.columns)\n",
    "\n",
    "fig, axes = plt.subplots(nrows = int(np.shape(select_num)[1]/3), ncols = 3, figsize=(15,15))\n",
    "y = 0\n",
    "for name in colnames:\n",
    "    i, j = divmod(y, 3)\n",
    "    sns.kdeplot(data=filtered_df[name], ax=axes[i, j])\n",
    "    y = y + 1\n",
    "plt.tight_layout()\n",
    "plt.show()"
   ]
  },
  {
   "cell_type": "markdown",
   "metadata": {},
   "source": [
    "#### Transformació de variables <a class=\"anchor\" id=\"transformació_de_variables\"></a>"
   ]
  },
  {
   "cell_type": "markdown",
   "metadata": {},
   "source": [
    "##### Country <a class=\"anchor\" id=\"country\"></a>"
   ]
  },
  {
   "cell_type": "code",
   "execution_count": 99,
   "metadata": {},
   "outputs": [
    {
     "data": {
      "text/plain": [
       "array(['USA', 'UK', 'New Zealand', 'Canada', 'Australia', 'Belgium',\n",
       "       'Japan', 'Germany', 'China', 'France', 'New Line', 'Mexico',\n",
       "       'Spain', 'Hong Kong', 'Czech Republic', 'India', 'Soviet Union',\n",
       "       'South Korea', 'Peru', 'Italy', 'Russia', 'Aruba', 'Denmark',\n",
       "       'Libya', 'Ireland', 'South Africa', 'Switzerland', 'Romania',\n",
       "       'West Germany', 'Chile', 'Netherlands', 'Hungary', 'Panama',\n",
       "       'Greece', 'Sweden', 'Taiwan', 'Official site', 'Cambodia',\n",
       "       'Thailand', 'Slovakia', 'Bulgaria', 'Iran', 'Georgia', 'Iceland',\n",
       "       'Norway', 'Turkey', 'Nigeria', 'Brazil', 'Finland', 'Bahamas',\n",
       "       'Argentina', 'Colombia', 'Poland', 'Israel', 'Egypt', 'Kyrgyzstan',\n",
       "       'Indonesia', 'Pakistan', 'Slovenia', 'Afghanistan',\n",
       "       'Dominican Republic', 'Cameroon', 'United Arab Emirates', 'Kenya',\n",
       "       'Philippines'], dtype=object)"
      ]
     },
     "execution_count": 99,
     "metadata": {},
     "output_type": "execute_result"
    }
   ],
   "source": [
    "filtered_df['country'].unique()"
   ]
  },
  {
   "cell_type": "code",
   "execution_count": 100,
   "metadata": {},
   "outputs": [
    {
     "data": {
      "text/plain": [
       "America            3872\n",
       "Europe              821\n",
       "Asia                137\n",
       "Oceania              68\n",
       "Africa               13\n",
       "Other-continent       2\n",
       "Name: Continent, dtype: int64"
      ]
     },
     "execution_count": 100,
     "metadata": {},
     "output_type": "execute_result"
    }
   ],
   "source": [
    "Africa = ('Kenya','Nigeria','Cameroon','Egypt','Libya','South Africa')\n",
    "Asia = ('United Arab Emirates','Pakistan','Cambodia','Philippines','Afghanistan','Indonesia','Israel','Iran','China','Japan','Hong Kong','India','South Korea','Taiwan','Thailand','Kyrgyzstan')\n",
    "Europe =('Slovenia','Turkey','Switzerland','Poland','Iceland','Finland',  'Sweden','Georgia', 'Norway','Slovakia', 'Bulgaria','Greece','Russia', 'Netherlands', 'Hungary','Romania', 'West Germany','Ireland','UK','Belgium','Germany','France','Spain','Czech Republic','Soviet Union','Italy','Denmark','Aruba',) \n",
    "America =('USA','Dominican Republic','Argentina', 'Colombia','Bahamas','Brazil','USA','Canada','Mexico','Peru','Chile','Panama') \n",
    "Oceania =('New Zealand','Australia')\n",
    "\n",
    "def GetConti(country):\n",
    "    if country in Africa:\n",
    "        return \"Africa\"\n",
    "    elif country in Asia:\n",
    "        return \"Asia\"\n",
    "    elif country in Europe:\n",
    "        return \"Europe\"\n",
    "    elif country in America:\n",
    "        return \"America\"\n",
    "    elif country in Oceania:\n",
    "        return \"Oceania\"\n",
    "    else:\n",
    "        return \"Other-continent\"\n",
    "\n",
    "filtered_df['Continent']=filtered_df['country'].apply(GetConti)\n",
    "filtered_df=filtered_df.drop(['country'], axis=1)\n",
    "filtered_df['Continent'].value_counts()"
   ]
  },
  {
   "cell_type": "code",
   "execution_count": 101,
   "metadata": {},
   "outputs": [
    {
     "data": {
      "text/html": [
       "<div>\n",
       "<style scoped>\n",
       "    .dataframe tbody tr th:only-of-type {\n",
       "        vertical-align: middle;\n",
       "    }\n",
       "\n",
       "    .dataframe tbody tr th {\n",
       "        vertical-align: top;\n",
       "    }\n",
       "\n",
       "    .dataframe thead th {\n",
       "        text-align: right;\n",
       "    }\n",
       "</style>\n",
       "<table border=\"1\" class=\"dataframe\">\n",
       "  <thead>\n",
       "    <tr style=\"text-align: right;\">\n",
       "      <th></th>\n",
       "      <th>color</th>\n",
       "      <th>num_critic_for_reviews</th>\n",
       "      <th>duration</th>\n",
       "      <th>director_facebook_likes</th>\n",
       "      <th>actor_3_facebook_likes</th>\n",
       "      <th>actor_2_facebook_likes</th>\n",
       "      <th>actor_1_facebook_likes</th>\n",
       "      <th>gross</th>\n",
       "      <th>genres</th>\n",
       "      <th>num_voted_users</th>\n",
       "      <th>cast_total_facebook_likes</th>\n",
       "      <th>num_user_for_reviews</th>\n",
       "      <th>language</th>\n",
       "      <th>budget</th>\n",
       "      <th>title_year</th>\n",
       "      <th>imdb_score</th>\n",
       "      <th>aspect_ratio</th>\n",
       "      <th>movie_facebook_likes</th>\n",
       "      <th>Continent</th>\n",
       "    </tr>\n",
       "  </thead>\n",
       "  <tbody>\n",
       "    <tr>\n",
       "      <th>281</th>\n",
       "      <td>Color</td>\n",
       "      <td>62.0</td>\n",
       "      <td>104.0</td>\n",
       "      <td>23.0</td>\n",
       "      <td>591.0</td>\n",
       "      <td>631.0</td>\n",
       "      <td>752.0</td>\n",
       "      <td>6712451.0</td>\n",
       "      <td>Comedy|Romance</td>\n",
       "      <td>4102</td>\n",
       "      <td>3133</td>\n",
       "      <td>89.0</td>\n",
       "      <td>English</td>\n",
       "      <td>90000000.0</td>\n",
       "      <td>2001.0</td>\n",
       "      <td>4.4</td>\n",
       "      <td>1.85</td>\n",
       "      <td>53</td>\n",
       "      <td>Other-continent</td>\n",
       "    </tr>\n",
       "    <tr>\n",
       "      <th>2675</th>\n",
       "      <td>Color</td>\n",
       "      <td>135.0</td>\n",
       "      <td>117.0</td>\n",
       "      <td>19.0</td>\n",
       "      <td>461.0</td>\n",
       "      <td>646.0</td>\n",
       "      <td>3000.0</td>\n",
       "      <td>20218921.0</td>\n",
       "      <td>Drama|Music</td>\n",
       "      <td>14814</td>\n",
       "      <td>4204</td>\n",
       "      <td>114.0</td>\n",
       "      <td>English</td>\n",
       "      <td>15000000.0</td>\n",
       "      <td>2010.0</td>\n",
       "      <td>6.3</td>\n",
       "      <td>2.35</td>\n",
       "      <td>0</td>\n",
       "      <td>Other-continent</td>\n",
       "    </tr>\n",
       "  </tbody>\n",
       "</table>\n",
       "</div>"
      ],
      "text/plain": [
       "      color  num_critic_for_reviews  duration  director_facebook_likes  \\\n",
       "281   Color                    62.0     104.0                     23.0   \n",
       "2675  Color                   135.0     117.0                     19.0   \n",
       "\n",
       "      actor_3_facebook_likes  actor_2_facebook_likes  actor_1_facebook_likes  \\\n",
       "281                    591.0                   631.0                   752.0   \n",
       "2675                   461.0                   646.0                  3000.0   \n",
       "\n",
       "           gross          genres  num_voted_users  cast_total_facebook_likes  \\\n",
       "281    6712451.0  Comedy|Romance             4102                       3133   \n",
       "2675  20218921.0     Drama|Music            14814                       4204   \n",
       "\n",
       "      num_user_for_reviews language      budget  title_year  imdb_score  \\\n",
       "281                   89.0  English  90000000.0      2001.0         4.4   \n",
       "2675                 114.0  English  15000000.0      2010.0         6.3   \n",
       "\n",
       "      aspect_ratio  movie_facebook_likes        Continent  \n",
       "281           1.85                    53  Other-continent  \n",
       "2675          2.35                     0  Other-continent  "
      ]
     },
     "execution_count": 101,
     "metadata": {},
     "output_type": "execute_result"
    }
   ],
   "source": [
    "filtered_df[filtered_df['Continent']==\"Other-continent\"]"
   ]
  },
  {
   "cell_type": "markdown",
   "metadata": {},
   "source": [
    "##### Language <a class=\"anchor\" id=\"language\"></a>"
   ]
  },
  {
   "cell_type": "code",
   "execution_count": 102,
   "metadata": {},
   "outputs": [
    {
     "data": {
      "text/plain": [
       "English       4595\n",
       "French          72\n",
       "Spanish         40\n",
       "Hindi           28\n",
       "Mandarin        25\n",
       "German          19\n",
       "Japanese        17\n",
       "Russian         11\n",
       "Cantonese       11\n",
       "Italian         10\n",
       "Korean           8\n",
       "Portuguese       8\n",
       "Hebrew           5\n",
       "Danish           5\n",
       "Arabic           5\n",
       "Dutch            4\n",
       "Swedish          4\n",
       "Norwegian        4\n",
       "Persian          4\n",
       "Thai             3\n",
       "Chinese          3\n",
       "None             2\n",
       "Zulu             2\n",
       "Aboriginal       2\n",
       "Indonesian       2\n",
       "Romanian         2\n",
       "Dari             2\n",
       "Mongolian        1\n",
       "Panjabi          1\n",
       "Telugu           1\n",
       "Polish           1\n",
       "Hungarian        1\n",
       "Czech            1\n",
       "Aramaic          1\n",
       "Urdu             1\n",
       "Filipino         1\n",
       "Slovenian        1\n",
       "Kannada          1\n",
       "Icelandic        1\n",
       "Vietnamese       1\n",
       "Greek            1\n",
       "Dzongkha         1\n",
       "Tamil            1\n",
       "Bosnian          1\n",
       "Kazakh           1\n",
       "Swahili          1\n",
       "Maya             1\n",
       "Name: language, dtype: int64"
      ]
     },
     "execution_count": 102,
     "metadata": {},
     "output_type": "execute_result"
    }
   ],
   "source": [
    "filtered_df['language'].value_counts()"
   ]
  },
  {
   "cell_type": "code",
   "execution_count": 103,
   "metadata": {},
   "outputs": [],
   "source": [
    "def GetLanguage(lan):\n",
    "    if lan not in ['English','French','Spanish','Mandarin']:\n",
    "        return 'Other-language'\n",
    "    else:\n",
    "        return lan\n",
    "\n",
    "filtered_df['language']=filtered_df['language'].apply(GetLanguage)"
   ]
  },
  {
   "cell_type": "code",
   "execution_count": 104,
   "metadata": {},
   "outputs": [
    {
     "data": {
      "text/plain": [
       "English           4595\n",
       "Other-language     181\n",
       "French              72\n",
       "Spanish             40\n",
       "Mandarin            25\n",
       "Name: language, dtype: int64"
      ]
     },
     "execution_count": 104,
     "metadata": {},
     "output_type": "execute_result"
    }
   ],
   "source": [
    "filtered_df['language'].value_counts()"
   ]
  },
  {
   "cell_type": "markdown",
   "metadata": {},
   "source": [
    "##### Year <a class=\"anchor\" id=\"year\"></a>"
   ]
  },
  {
   "cell_type": "code",
   "execution_count": 105,
   "metadata": {},
   "outputs": [
    {
     "data": {
      "text/plain": [
       "2000-2010    2097\n",
       "2010-2020    1483\n",
       "1980-2000    1076\n",
       "1960-1980     186\n",
       "<1960          71\n",
       "Name: title_year_bins, dtype: int64"
      ]
     },
     "execution_count": 105,
     "metadata": {},
     "output_type": "execute_result"
    }
   ],
   "source": [
    "def GetYear(y):\n",
    "    if y<1960:\n",
    "        return \"<1960\"\n",
    "    elif 1960 <= y < 1980:\n",
    "        return \"1960-1980\"\n",
    "    elif 1980 <= y < 2000:\n",
    "        return \"1980-2000\"\n",
    "    elif 2000 <= y < 2010:\n",
    "        return \"2000-2010\"\n",
    "    elif 2010 <= y < 2020:\n",
    "        return \"2010-2020\"\n",
    "    else:\n",
    "        return \"Unknown\"\n",
    "    \n",
    "filtered_df['title_year_bins']=filtered_df['title_year'].apply(GetYear)\n",
    "filtered_df=filtered_df.drop(['title_year'], axis=1)\n",
    "filtered_df['title_year_bins'].value_counts()"
   ]
  },
  {
   "cell_type": "markdown",
   "metadata": {},
   "source": [
    "##### Genres <a class=\"anchor\" id=\"genres\"></a>"
   ]
  },
  {
   "cell_type": "code",
   "execution_count": 107,
   "metadata": {},
   "outputs": [
    {
     "data": {
      "text/plain": [
       "Comedy         1294\n",
       "Action         1129\n",
       "Drama           934\n",
       "Adventure       450\n",
       "Crime           329\n",
       "Biography       251\n",
       "Horror          230\n",
       "Documentary      82\n",
       "Animation        57\n",
       "Fantasy          53\n",
       "Mystery          33\n",
       "Thriller         22\n",
       "Sci-Fi           13\n",
       "Western          12\n",
       "Family           11\n",
       "Romance           6\n",
       "Musical           4\n",
       "Film-Noir         1\n",
       "History           1\n",
       "Music             1\n",
       "Name: main_genre, dtype: int64"
      ]
     },
     "execution_count": 107,
     "metadata": {},
     "output_type": "execute_result"
    }
   ],
   "source": [
    "# only keep first leave of the genre\n",
    "def get_genre(g):\n",
    "    return g.split('|')[0]\n",
    "\n",
    "filtered_df['main_genre']=filtered_df['genres'].apply(get_genre)\n",
    "filtered_df=filtered_df.drop(['genres'], axis=1)\n",
    "filtered_df['main_genre'].value_counts()"
   ]
  },
  {
   "cell_type": "markdown",
   "metadata": {},
   "source": [
    "##### One-Hot Encoding variables categòriques <a class=\"anchor\" id=\"one_hot_encoding_variables_categòriques\"></a>"
   ]
  },
  {
   "cell_type": "code",
   "execution_count": 108,
   "metadata": {},
   "outputs": [],
   "source": [
    "daux=pd.get_dummies(filtered_df['language'])\n",
    "filtered_df=pd.concat([filtered_df,daux],axis=1)"
   ]
  },
  {
   "cell_type": "code",
   "execution_count": 109,
   "metadata": {},
   "outputs": [
    {
     "data": {
      "text/plain": [
       "language\n",
       "English           0\n",
       "French            0\n",
       "Mandarin          0\n",
       "Other-language    0\n",
       "Spanish           1\n",
       "Name: Spanish, dtype: uint8"
      ]
     },
     "execution_count": 109,
     "metadata": {},
     "output_type": "execute_result"
    }
   ],
   "source": [
    "# Comprovació del one hot encoder per exemple per spain\n",
    "filtered_df.groupby(['language'])['Spanish'].mean()"
   ]
  },
  {
   "cell_type": "code",
   "execution_count": 110,
   "metadata": {},
   "outputs": [],
   "source": [
    "daux=pd.get_dummies(filtered_df['main_genre'])\n",
    "filtered_df=pd.concat([filtered_df,daux],axis=1)"
   ]
  },
  {
   "cell_type": "code",
   "execution_count": 111,
   "metadata": {},
   "outputs": [],
   "source": [
    "## filtered_df.drop(columns='language', inplace = True) No esborrem la original per si la necessitem"
   ]
  },
  {
   "cell_type": "code",
   "execution_count": 112,
   "metadata": {},
   "outputs": [],
   "source": [
    "daux=pd.get_dummies(filtered_df['color'])\n",
    "filtered_df=pd.concat([filtered_df,daux],axis=1)"
   ]
  },
  {
   "cell_type": "code",
   "execution_count": 113,
   "metadata": {},
   "outputs": [],
   "source": [
    "daux=pd.get_dummies(filtered_df['title_year_bins'])\n",
    "filtered_df=pd.concat([filtered_df,daux],axis=1)"
   ]
  },
  {
   "cell_type": "code",
   "execution_count": 114,
   "metadata": {},
   "outputs": [],
   "source": [
    "daux=pd.get_dummies(filtered_df['Continent'])\n",
    "filtered_df=pd.concat([filtered_df,daux],axis=1)"
   ]
  },
  {
   "cell_type": "markdown",
   "metadata": {},
   "source": [
    "#### Exportació dades processades <a class=\"anchor\" id=\"exportació_dades_processades\"></a>"
   ]
  },
  {
   "cell_type": "code",
   "execution_count": 115,
   "metadata": {},
   "outputs": [],
   "source": [
    "filtered_df.to_csv('movie_df_filtered.csv')"
   ]
  },
  {
   "cell_type": "markdown",
   "metadata": {},
   "source": [
    "### Anàlisi de dades <a class=\"anchor\" id=\"anàlisi_de_dades\"></a>"
   ]
  },
  {
   "cell_type": "markdown",
   "metadata": {},
   "source": [
    "#### Selecció de grups <a class=\"anchor\" id=\"selecció_de_grups\"></a>"
   ]
  },
  {
   "cell_type": "code",
   "execution_count": 71,
   "metadata": {},
   "outputs": [
    {
     "data": {
      "text/plain": [
       "0       7.9\n",
       "1       7.1\n",
       "2       6.8\n",
       "3       8.5\n",
       "5       6.6\n",
       "       ... \n",
       "5037    6.4\n",
       "5038    7.7\n",
       "5040    6.3\n",
       "5041    6.3\n",
       "5042    6.6\n",
       "Name: imdb_score, Length: 4913, dtype: float64"
      ]
     },
     "execution_count": 71,
     "metadata": {},
     "output_type": "execute_result"
    }
   ],
   "source": [
    "filtered_df['imdb_score']"
   ]
  },
  {
   "cell_type": "code",
   "execution_count": 72,
   "metadata": {},
   "outputs": [],
   "source": [
    "# selecció segons gross\n",
    "mean_gross = np.mean(filtered_df['gross'])\n",
    "high_gross = filtered_df[filtered_df['gross'] >= mean_gross]\n",
    "low_gross = filtered_df[filtered_df['gross'] < mean_gross]\n",
    "\n",
    "# selecció segons gènere \n",
    "comedy = filtered_df[filtered_df['main_genre'] =='Comedy']\n",
    "action = filtered_df[filtered_df['main_genre'] =='Action']\n",
    "drama = filtered_df[filtered_df['main_genre'] =='Drama']\n",
    "\n",
    "# selecció segons llenguatge\n",
    "english = filtered_df[filtered_df['language'] =='English']\n",
    "other = filtered_df[filtered_df['language'] != 'English']\n",
    "\n",
    "# selecció segons valoració (imdb_score)\n",
    "high_score = filtered_df[filtered_df['imdb_score'] > 5]\n",
    "low_score = filtered_df[filtered_df['imdb_score'] <= 5]"
   ]
  },
  {
   "cell_type": "markdown",
   "metadata": {},
   "source": [
    "#### Comprovació normalitat i homogeneïtat de la variància <a class=\"anchor\" id=\"comprovació_normalitat_i_homogeneïtat_de_la_variància\"></a>"
   ]
  },
  {
   "cell_type": "code",
   "execution_count": 45,
   "metadata": {
    "scrolled": true
   },
   "outputs": [
    {
     "name": "stdout",
     "output_type": "stream",
     "text": [
      "The null hypothesis can be rejected num_critic_for_reviews\n",
      "The null hypothesis can be rejected director_facebook_likes\n",
      "The null hypothesis can be rejected actor_3_facebook_likes\n",
      "The null hypothesis can be rejected actor_2_facebook_likes\n",
      "The null hypothesis can be rejected actor_1_facebook_likes\n",
      "The null hypothesis can be rejected gross\n",
      "The null hypothesis can be rejected num_voted_users\n",
      "The null hypothesis can be rejected cast_total_facebook_likes\n",
      "The null hypothesis can be rejected num_user_for_reviews\n",
      "The null hypothesis can be rejected budget\n",
      "The null hypothesis can be rejected imdb_score\n",
      "The null hypothesis can be rejected aspect_ratio\n",
      "The null hypothesis can be rejected movie_facebook_likes\n",
      "The null hypothesis can be rejected English\n",
      "The null hypothesis can be rejected French\n",
      "The null hypothesis can be rejected Mandarin\n",
      "The null hypothesis can be rejected Other-language\n",
      "The null hypothesis can be rejected Spanish\n",
      "The null hypothesis can be rejected Action\n",
      "The null hypothesis can be rejected Adventure\n",
      "The null hypothesis can be rejected Animation\n",
      "The null hypothesis can be rejected Biography\n",
      "The null hypothesis can be rejected Comedy\n",
      "The null hypothesis can be rejected Crime\n",
      "The null hypothesis can be rejected Documentary\n",
      "The null hypothesis can be rejected Drama\n",
      "The null hypothesis can be rejected Family\n",
      "The null hypothesis can be rejected Fantasy\n",
      "The null hypothesis can be rejected Film-Noir\n",
      "The null hypothesis can be rejected History\n",
      "The null hypothesis can be rejected Horror\n",
      "The null hypothesis can be rejected Music\n",
      "The null hypothesis can be rejected Musical\n",
      "The null hypothesis can be rejected Mystery\n",
      "The null hypothesis can be rejected Romance\n",
      "The null hypothesis can be rejected Sci-Fi\n",
      "The null hypothesis can be rejected Thriller\n",
      "The null hypothesis can be rejected Western\n",
      "The null hypothesis can be rejected  Black and White\n",
      "The null hypothesis can be rejected Color\n",
      "The null hypothesis can be rejected 1960-1980\n",
      "The null hypothesis can be rejected 1980-2000\n",
      "The null hypothesis can be rejected 2000-2010\n",
      "The null hypothesis can be rejected 2010-2020\n",
      "The null hypothesis can be rejected <1960\n",
      "The null hypothesis can be rejected Africa\n",
      "The null hypothesis can be rejected America\n",
      "The null hypothesis can be rejected Asia\n",
      "The null hypothesis can be rejected Europe\n",
      "The null hypothesis can be rejected Oceania\n",
      "The null hypothesis can be rejected Other-continent\n"
     ]
    }
   ],
   "source": [
    "alpha = 0.05\n",
    "for l in filtered_df.columns:\n",
    "    if l not in ['color', 'language', 'main_genre', 'title_year_bins', 'Continent', 'duration']:\n",
    "        x, p = stats.normaltest(filtered_df[l])\n",
    "        if p < alpha:\n",
    "            print('The null hypothesis can be rejected', l)\n",
    "        else:\n",
    "            print('The null hypothesis CANNOT be rejected', l)"
   ]
  },
  {
   "cell_type": "code",
   "execution_count": 73,
   "metadata": {},
   "outputs": [
    {
     "name": "stdout",
     "output_type": "stream",
     "text": [
      "82.85801040853265 1.2560375342476906e-19\n"
     ]
    }
   ],
   "source": [
    "# homogeneitat variances\n",
    "stat, p = stats.levene(high_score['duration'], low_score['duration'])\n",
    "print(stat, p)"
   ]
  },
  {
   "cell_type": "markdown",
   "metadata": {},
   "source": [
    "### Proves estadístiques <a class=\"anchor\" id=\"proves_estadístiques\"></a>"
   ]
  },
  {
   "cell_type": "markdown",
   "metadata": {},
   "source": [
    "#### Correlació variables amb la variable de duració <a class=\"anchor\" id=\"correlació_variables\"></a>"
   ]
  },
  {
   "cell_type": "code",
   "execution_count": 120,
   "metadata": {},
   "outputs": [],
   "source": [
    "correlation_dict = pd.DataFrame()\n",
    "for i in filtered_df.columns:\n",
    "    if i not in ['color', 'language', 'main_genre', 'title_year_bins', 'Continent', 'duration']:\n",
    "        corr, pval = pearsonr(filtered_df['duration'], filtered_df[i]) \n",
    "        correlation_dict[i] = [corr, pval]"
   ]
  },
  {
   "cell_type": "code",
   "execution_count": 146,
   "metadata": {},
   "outputs": [
    {
     "data": {
      "text/html": [
       "<div>\n",
       "<style scoped>\n",
       "    .dataframe tbody tr th:only-of-type {\n",
       "        vertical-align: middle;\n",
       "    }\n",
       "\n",
       "    .dataframe tbody tr th {\n",
       "        vertical-align: top;\n",
       "    }\n",
       "\n",
       "    .dataframe thead th {\n",
       "        text-align: right;\n",
       "    }\n",
       "</style>\n",
       "<table border=\"1\" class=\"dataframe\">\n",
       "  <thead>\n",
       "    <tr style=\"text-align: right;\">\n",
       "      <th></th>\n",
       "      <th>correlation</th>\n",
       "      <th>pvalue</th>\n",
       "    </tr>\n",
       "  </thead>\n",
       "  <tbody>\n",
       "    <tr>\n",
       "      <th>num_user_for_reviews</th>\n",
       "      <td>0.352534</td>\n",
       "      <td>9.677374e-144</td>\n",
       "    </tr>\n",
       "    <tr>\n",
       "      <th>num_voted_users</th>\n",
       "      <td>0.342481</td>\n",
       "      <td>2.974620e-135</td>\n",
       "    </tr>\n",
       "    <tr>\n",
       "      <th>imdb_score</th>\n",
       "      <td>0.342185</td>\n",
       "      <td>5.229846e-135</td>\n",
       "    </tr>\n",
       "    <tr>\n",
       "      <th>num_critic_for_reviews</th>\n",
       "      <td>0.250943</td>\n",
       "      <td>1.965519e-71</td>\n",
       "    </tr>\n",
       "    <tr>\n",
       "      <th>gross</th>\n",
       "      <td>0.232756</td>\n",
       "      <td>1.952738e-61</td>\n",
       "    </tr>\n",
       "    <tr>\n",
       "      <th>movie_facebook_likes</th>\n",
       "      <td>0.218328</td>\n",
       "      <td>4.280753e-54</td>\n",
       "    </tr>\n",
       "    <tr>\n",
       "      <th>Comedy</th>\n",
       "      <td>-0.192657</td>\n",
       "      <td>2.719137e-42</td>\n",
       "    </tr>\n",
       "    <tr>\n",
       "      <th>director_facebook_likes</th>\n",
       "      <td>0.173426</td>\n",
       "      <td>1.770237e-34</td>\n",
       "    </tr>\n",
       "    <tr>\n",
       "      <th>Biography</th>\n",
       "      <td>0.168565</td>\n",
       "      <td>1.220628e-32</td>\n",
       "    </tr>\n",
       "    <tr>\n",
       "      <th>actor_2_facebook_likes</th>\n",
       "      <td>0.137036</td>\n",
       "      <td>4.996309e-22</td>\n",
       "    </tr>\n",
       "  </tbody>\n",
       "</table>\n",
       "</div>"
      ],
      "text/plain": [
       "                         correlation         pvalue\n",
       "num_user_for_reviews        0.352534  9.677374e-144\n",
       "num_voted_users             0.342481  2.974620e-135\n",
       "imdb_score                  0.342185  5.229846e-135\n",
       "num_critic_for_reviews      0.250943   1.965519e-71\n",
       "gross                       0.232756   1.952738e-61\n",
       "movie_facebook_likes        0.218328   4.280753e-54\n",
       "Comedy                     -0.192657   2.719137e-42\n",
       "director_facebook_likes     0.173426   1.770237e-34\n",
       "Biography                   0.168565   1.220628e-32\n",
       "actor_2_facebook_likes      0.137036   4.996309e-22"
      ]
     },
     "execution_count": 146,
     "metadata": {},
     "output_type": "execute_result"
    }
   ],
   "source": [
    "orderedDict_corr = dict(sorted(correlation_dict.items(), key=lambda t: t[1][1]))\n",
    "pd.DataFrame.from_dict(orderedDict_corr, orient='index', columns=['correlation', 'pvalue']).head(10)"
   ]
  },
  {
   "cell_type": "code",
   "execution_count": null,
   "metadata": {},
   "outputs": [],
   "source": []
  }
 ],
 "metadata": {
  "kernelspec": {
   "display_name": "Python 3",
   "language": "python",
   "name": "python3"
  },
  "language_info": {
   "codemirror_mode": {
    "name": "ipython",
    "version": 3
   },
   "file_extension": ".py",
   "mimetype": "text/x-python",
   "name": "python",
   "nbconvert_exporter": "python",
   "pygments_lexer": "ipython3",
   "version": "3.8.2"
  }
 },
 "nbformat": 4,
 "nbformat_minor": 4
}
