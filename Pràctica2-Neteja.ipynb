{
 "cells": [
  {
   "cell_type": "markdown",
   "metadata": {},
   "source": [
    "# Pràctica 2- Títol"
   ]
  },
  {
   "cell_type": "markdown",
   "metadata": {},
   "source": [
    "### Taula de continguts\n",
    "\n",
    "* [Neteja de les dades](#neteja_de_les_dades)\n",
    "    * [Secció 1.1. Selecció dades interès](#secció_1_1_selecció_dades_interès)\n",
    "    * [Secció 1.2. Identificació zeros i elements buits](#secció_1_2_identificació_zeros_i_elements_buits)\n",
    "    * [Secció 1.3. Identificació valors extrems](#secció_1_3_identificació_valors_extrems)  \n",
    "    * [Secció 1.4. Exportació dades processades](#secció_1_4_exportació_dades_processades) \n",
    "    \n",
    "* [Anàlisi de dades](#anàlisi_de_dades)\n",
    "    * [Secció 2.1. Selecció de grups](#secció_2_1_selecció_de_grups)\n",
    "    * [Secció 2.2 Comprovació normalitat i homogeneïtat de la variància](#secció_2_2_comprovació_normalitat_i_homogeneïtat_de_la_variància)\n",
    "\n",
    "* [Proves estadístiques](#proves_estadístiques)\n"
   ]
  },
  {
   "cell_type": "code",
   "execution_count": 10,
   "metadata": {},
   "outputs": [],
   "source": [
    "%matplotlib inline\n",
    "import pandas as pd\n",
    "import matplotlib.pyplot as plt\n",
    "import seaborn as sns\n",
    "import numpy as np\n",
    "from sklearn.impute import KNNImputer"
   ]
  },
  {
   "cell_type": "markdown",
   "metadata": {},
   "source": [
    "### Neteja de les dades <a class=\"anchor\" id=\"neteja_de_les_dades\"></a>"
   ]
  },
  {
   "cell_type": "code",
   "execution_count": 2,
   "metadata": {},
   "outputs": [],
   "source": [
    "# Load movie dataframe\n",
    "\n",
    "df = pd.read_excel('/Users/sgalan/Downloads/movie.xlsx', skiprows=[0])"
   ]
  },
  {
   "cell_type": "code",
   "execution_count": 3,
   "metadata": {},
   "outputs": [
    {
     "data": {
      "text/html": [
       "<div>\n",
       "<style scoped>\n",
       "    .dataframe tbody tr th:only-of-type {\n",
       "        vertical-align: middle;\n",
       "    }\n",
       "\n",
       "    .dataframe tbody tr th {\n",
       "        vertical-align: top;\n",
       "    }\n",
       "\n",
       "    .dataframe thead th {\n",
       "        text-align: right;\n",
       "    }\n",
       "</style>\n",
       "<table border=\"1\" class=\"dataframe\">\n",
       "  <thead>\n",
       "    <tr style=\"text-align: right;\">\n",
       "      <th></th>\n",
       "      <th>color</th>\n",
       "      <th>director_name</th>\n",
       "      <th>num_critic_for_reviews</th>\n",
       "      <th>duration</th>\n",
       "      <th>director_facebook_likes</th>\n",
       "      <th>actor_3_facebook_likes</th>\n",
       "      <th>actor_2_name</th>\n",
       "      <th>actor_1_facebook_likes</th>\n",
       "      <th>gross</th>\n",
       "      <th>genres</th>\n",
       "      <th>...</th>\n",
       "      <th>num_user_for_reviews</th>\n",
       "      <th>language</th>\n",
       "      <th>country</th>\n",
       "      <th>content_rating</th>\n",
       "      <th>budget</th>\n",
       "      <th>title_year</th>\n",
       "      <th>actor_2_facebook_likes</th>\n",
       "      <th>imdb_score</th>\n",
       "      <th>aspect_ratio</th>\n",
       "      <th>movie_facebook_likes</th>\n",
       "    </tr>\n",
       "  </thead>\n",
       "  <tbody>\n",
       "    <tr>\n",
       "      <th>0</th>\n",
       "      <td>Color</td>\n",
       "      <td>James Cameron</td>\n",
       "      <td>723.0</td>\n",
       "      <td>178.0</td>\n",
       "      <td>0.0</td>\n",
       "      <td>855.0</td>\n",
       "      <td>Joel David Moore</td>\n",
       "      <td>1000.0</td>\n",
       "      <td>760505847.0</td>\n",
       "      <td>Action|Adventure|Fantasy|Sci-Fi</td>\n",
       "      <td>...</td>\n",
       "      <td>3054.0</td>\n",
       "      <td>English</td>\n",
       "      <td>USA</td>\n",
       "      <td>PG-13</td>\n",
       "      <td>237000000.0</td>\n",
       "      <td>2009.0</td>\n",
       "      <td>936.0</td>\n",
       "      <td>7.9</td>\n",
       "      <td>1.78</td>\n",
       "      <td>33000</td>\n",
       "    </tr>\n",
       "    <tr>\n",
       "      <th>1</th>\n",
       "      <td>Color</td>\n",
       "      <td>Gore Verbinski</td>\n",
       "      <td>302.0</td>\n",
       "      <td>169.0</td>\n",
       "      <td>563.0</td>\n",
       "      <td>1000.0</td>\n",
       "      <td>Orlando Bloom</td>\n",
       "      <td>40000.0</td>\n",
       "      <td>309404152.0</td>\n",
       "      <td>Action|Adventure|Fantasy</td>\n",
       "      <td>...</td>\n",
       "      <td>1238.0</td>\n",
       "      <td>English</td>\n",
       "      <td>USA</td>\n",
       "      <td>PG-13</td>\n",
       "      <td>300000000.0</td>\n",
       "      <td>2007.0</td>\n",
       "      <td>5000.0</td>\n",
       "      <td>7.1</td>\n",
       "      <td>2.35</td>\n",
       "      <td>0</td>\n",
       "    </tr>\n",
       "    <tr>\n",
       "      <th>2</th>\n",
       "      <td>Color</td>\n",
       "      <td>Sam Mendes</td>\n",
       "      <td>602.0</td>\n",
       "      <td>148.0</td>\n",
       "      <td>0.0</td>\n",
       "      <td>161.0</td>\n",
       "      <td>Rory Kinnear</td>\n",
       "      <td>11000.0</td>\n",
       "      <td>200074175.0</td>\n",
       "      <td>Action|Adventure|Thriller</td>\n",
       "      <td>...</td>\n",
       "      <td>994.0</td>\n",
       "      <td>English</td>\n",
       "      <td>UK</td>\n",
       "      <td>PG-13</td>\n",
       "      <td>245000000.0</td>\n",
       "      <td>2015.0</td>\n",
       "      <td>393.0</td>\n",
       "      <td>6.8</td>\n",
       "      <td>2.35</td>\n",
       "      <td>85000</td>\n",
       "    </tr>\n",
       "    <tr>\n",
       "      <th>3</th>\n",
       "      <td>Color</td>\n",
       "      <td>Christopher Nolan</td>\n",
       "      <td>813.0</td>\n",
       "      <td>164.0</td>\n",
       "      <td>22000.0</td>\n",
       "      <td>23000.0</td>\n",
       "      <td>Christian Bale</td>\n",
       "      <td>27000.0</td>\n",
       "      <td>448130642.0</td>\n",
       "      <td>Action|Thriller</td>\n",
       "      <td>...</td>\n",
       "      <td>2701.0</td>\n",
       "      <td>English</td>\n",
       "      <td>USA</td>\n",
       "      <td>PG-13</td>\n",
       "      <td>250000000.0</td>\n",
       "      <td>2012.0</td>\n",
       "      <td>23000.0</td>\n",
       "      <td>8.5</td>\n",
       "      <td>2.35</td>\n",
       "      <td>164000</td>\n",
       "    </tr>\n",
       "    <tr>\n",
       "      <th>4</th>\n",
       "      <td>NaN</td>\n",
       "      <td>Doug Walker</td>\n",
       "      <td>NaN</td>\n",
       "      <td>NaN</td>\n",
       "      <td>131.0</td>\n",
       "      <td>NaN</td>\n",
       "      <td>Rob Walker</td>\n",
       "      <td>131.0</td>\n",
       "      <td>NaN</td>\n",
       "      <td>Documentary</td>\n",
       "      <td>...</td>\n",
       "      <td>NaN</td>\n",
       "      <td>NaN</td>\n",
       "      <td>NaN</td>\n",
       "      <td>NaN</td>\n",
       "      <td>NaN</td>\n",
       "      <td>NaN</td>\n",
       "      <td>12.0</td>\n",
       "      <td>7.1</td>\n",
       "      <td>NaN</td>\n",
       "      <td>0</td>\n",
       "    </tr>\n",
       "  </tbody>\n",
       "</table>\n",
       "<p>5 rows × 28 columns</p>\n",
       "</div>"
      ],
      "text/plain": [
       "   color      director_name  num_critic_for_reviews  duration  \\\n",
       "0  Color      James Cameron                   723.0     178.0   \n",
       "1  Color     Gore Verbinski                   302.0     169.0   \n",
       "2  Color         Sam Mendes                   602.0     148.0   \n",
       "3  Color  Christopher Nolan                   813.0     164.0   \n",
       "4    NaN        Doug Walker                     NaN       NaN   \n",
       "\n",
       "   director_facebook_likes  actor_3_facebook_likes      actor_2_name  \\\n",
       "0                      0.0                   855.0  Joel David Moore   \n",
       "1                    563.0                  1000.0     Orlando Bloom   \n",
       "2                      0.0                   161.0      Rory Kinnear   \n",
       "3                  22000.0                 23000.0    Christian Bale   \n",
       "4                    131.0                     NaN        Rob Walker   \n",
       "\n",
       "   actor_1_facebook_likes        gross                           genres  ...  \\\n",
       "0                  1000.0  760505847.0  Action|Adventure|Fantasy|Sci-Fi  ...   \n",
       "1                 40000.0  309404152.0         Action|Adventure|Fantasy  ...   \n",
       "2                 11000.0  200074175.0        Action|Adventure|Thriller  ...   \n",
       "3                 27000.0  448130642.0                  Action|Thriller  ...   \n",
       "4                   131.0          NaN                      Documentary  ...   \n",
       "\n",
       "  num_user_for_reviews language  country  content_rating       budget  \\\n",
       "0               3054.0  English      USA           PG-13  237000000.0   \n",
       "1               1238.0  English      USA           PG-13  300000000.0   \n",
       "2                994.0  English       UK           PG-13  245000000.0   \n",
       "3               2701.0  English      USA           PG-13  250000000.0   \n",
       "4                  NaN      NaN      NaN             NaN          NaN   \n",
       "\n",
       "   title_year actor_2_facebook_likes imdb_score  aspect_ratio  \\\n",
       "0      2009.0                  936.0        7.9          1.78   \n",
       "1      2007.0                 5000.0        7.1          2.35   \n",
       "2      2015.0                  393.0        6.8          2.35   \n",
       "3      2012.0                23000.0        8.5          2.35   \n",
       "4         NaN                   12.0        7.1           NaN   \n",
       "\n",
       "  movie_facebook_likes  \n",
       "0                33000  \n",
       "1                    0  \n",
       "2                85000  \n",
       "3               164000  \n",
       "4                    0  \n",
       "\n",
       "[5 rows x 28 columns]"
      ]
     },
     "execution_count": 3,
     "metadata": {},
     "output_type": "execute_result"
    }
   ],
   "source": [
    "# Overview dataframe\n",
    "\n",
    "df.head()"
   ]
  },
  {
   "cell_type": "code",
   "execution_count": 4,
   "metadata": {},
   "outputs": [
    {
     "data": {
      "text/plain": [
       "color                         object\n",
       "director_name                 object\n",
       "num_critic_for_reviews       float64\n",
       "duration                     float64\n",
       "director_facebook_likes      float64\n",
       "actor_3_facebook_likes       float64\n",
       "actor_2_name                  object\n",
       "actor_1_facebook_likes       float64\n",
       "gross                        float64\n",
       "genres                        object\n",
       "actor_1_name                  object\n",
       "movie_title                   object\n",
       "num_voted_users                int64\n",
       "cast_total_facebook_likes      int64\n",
       "actor_3_name                  object\n",
       "facenumber_in_poster         float64\n",
       "plot_keywords                 object\n",
       "movie_imdb_link               object\n",
       "num_user_for_reviews         float64\n",
       "language                      object\n",
       "country                       object\n",
       "content_rating                object\n",
       "budget                       float64\n",
       "title_year                   float64\n",
       "actor_2_facebook_likes       float64\n",
       "imdb_score                   float64\n",
       "aspect_ratio                 float64\n",
       "movie_facebook_likes           int64\n",
       "dtype: object"
      ]
     },
     "execution_count": 4,
     "metadata": {},
     "output_type": "execute_result"
    }
   ],
   "source": [
    "df.dtypes"
   ]
  },
  {
   "cell_type": "markdown",
   "metadata": {},
   "source": [
    "#### Secció 1.1. Selecció dades interès <a class=\"anchor\" id=\"secció_1_1_selecció_dades_interès\"></a>"
   ]
  },
  {
   "cell_type": "code",
   "execution_count": 5,
   "metadata": {},
   "outputs": [],
   "source": [
    "keep = ['color', 'director_name', 'num_critic_for_reviews', 'duration', 'director_facebook_likes', \n",
    "        'actor_3_facebook_likes', 'actor_2_facebook_likes', 'actor_1_facebook_likes', 'gross', 'genres',\n",
    "        'num_voted_users', 'cast_total_facebook_likes', 'num_user_for_reviews', 'language', 'country',\n",
    "        'content_rating', 'budget', 'title_year', 'imdb_score', 'aspect_ratio', 'movie_facebook_likes']\n",
    "\n",
    "filtered_df = df[keep]"
   ]
  },
  {
   "cell_type": "markdown",
   "metadata": {},
   "source": [
    "#### Secció 1.2. Identificació zeros i elements buits <a class=\"anchor\" id=\"secció_1_2_identificació_zeros_i_elements_buits\"></a>"
   ]
  },
  {
   "cell_type": "code",
   "execution_count": 6,
   "metadata": {},
   "outputs": [
    {
     "name": "stdout",
     "output_type": "stream",
     "text": [
      "color 19\n",
      "director_name 104\n",
      "num_critic_for_reviews 50\n",
      "duration 15\n",
      "director_facebook_likes 104\n",
      "actor_3_facebook_likes 23\n",
      "actor_2_facebook_likes 13\n",
      "actor_1_facebook_likes 7\n",
      "gross 884\n",
      "genres 0\n",
      "num_voted_users 0\n",
      "cast_total_facebook_likes 0\n",
      "num_user_for_reviews 21\n",
      "language 12\n",
      "country 5\n",
      "content_rating 303\n",
      "budget 492\n",
      "title_year 108\n",
      "imdb_score 0\n",
      "aspect_ratio 329\n",
      "movie_facebook_likes 0\n"
     ]
    }
   ],
   "source": [
    "# Sum of NaN\n",
    "\n",
    "for l in filtered_df.columns:\n",
    "    count = filtered_df[l].isna().sum()\n",
    "    print (l, count)"
   ]
  },
  {
   "cell_type": "code",
   "execution_count": 7,
   "metadata": {},
   "outputs": [
    {
     "name": "stdout",
     "output_type": "stream",
     "text": [
      "color 0\n",
      "director_name 0\n",
      "num_critic_for_reviews 20\n",
      "duration 2\n",
      "director_facebook_likes 0\n",
      "actor_3_facebook_likes 9\n",
      "actor_2_facebook_likes 2\n",
      "actor_1_facebook_likes 1\n",
      "gross 569\n",
      "genres 0\n",
      "num_voted_users 0\n",
      "cast_total_facebook_likes 0\n",
      "num_user_for_reviews 4\n",
      "language 0\n",
      "country 0\n",
      "content_rating 0\n",
      "budget 333\n",
      "title_year 0\n",
      "imdb_score 0\n",
      "aspect_ratio 185\n",
      "movie_facebook_likes 0\n",
      "(4657, 21)\n"
     ]
    }
   ],
   "source": [
    "# remove NA from director_name, genres, language, country\n",
    "\n",
    "remove_cols = ['director_name', 'genres', 'language', 'country', 'color', 'content_rating']\n",
    "for r in remove_cols:\n",
    "    filtered_df = filtered_df[filtered_df[r].notna()]\n",
    "\n",
    "for l in filtered_df.columns:\n",
    "    count = filtered_df[l].isna().sum()\n",
    "    print (l, count)\n",
    "    \n",
    "print (np.shape(filtered_df))"
   ]
  },
  {
   "cell_type": "code",
   "execution_count": 9,
   "metadata": {
    "scrolled": false
   },
   "outputs": [
    {
     "name": "stdout",
     "output_type": "stream",
     "text": [
      "color 0\n",
      "director_name 0\n",
      "num_critic_for_reviews 0\n",
      "duration 0\n",
      "director_facebook_likes 0\n",
      "actor_3_facebook_likes 0\n",
      "actor_2_facebook_likes 0\n",
      "actor_1_facebook_likes 0\n",
      "gross 0\n",
      "genres 0\n",
      "num_voted_users 0\n",
      "cast_total_facebook_likes 0\n",
      "num_user_for_reviews 0\n",
      "language 0\n",
      "country 0\n",
      "content_rating 0\n",
      "budget 0\n",
      "title_year 0\n",
      "imdb_score 0\n",
      "aspect_ratio 0\n",
      "movie_facebook_likes 0\n",
      "(4657, 21)\n"
     ]
    }
   ],
   "source": [
    "# manage missing numerical values\n",
    "\n",
    "num_cols = ['num_critic_for_reviews', 'duration', 'actor_3_facebook_likes', 'actor_2_facebook_likes', \n",
    "           'actor_1_facebook_likes', 'gross', 'num_user_for_reviews', 'budget', 'aspect_ratio']\n",
    "\n",
    "imputer_KNN = KNNImputer(missing_values=np.nan, n_neighbors=3, weights=\"uniform\", metric=\"nan_euclidean\")\n",
    "\n",
    "for c in num_cols:\n",
    "    filtered_df[c] = imputer_KNN.fit_transform(filtered_df[c].values.reshape(-1, 1))\n",
    "\n",
    "for l in filtered_df.columns:\n",
    "    count = filtered_df[l].isna().sum()\n",
    "    print (l, count)\n",
    "    \n",
    "print (np.shape(filtered_df))"
   ]
  },
  {
   "cell_type": "markdown",
   "metadata": {},
   "source": [
    "#### Secció 1.3. Identificació valors extrems <a class=\"anchor\" id=\"secció_1_3_identificació_valors_extrems\"></a>"
   ]
  },
  {
   "cell_type": "code",
   "execution_count": 57,
   "metadata": {},
   "outputs": [
    {
     "name": "stdout",
     "output_type": "stream",
     "text": [
      "IQR of column  num_critic_for_reviews : 143.0\n",
      "Number of outliers:  186\n",
      "IQR of column  duration : 24.0\n",
      "Number of outliers:  159\n",
      "IQR of column  director_facebook_likes : 204.0\n",
      "Number of outliers:  541\n",
      "IQR of column  actor_3_facebook_likes : 497.0\n",
      "Number of outliers:  172\n",
      "IQR of column  actor_2_facebook_likes : 620.0\n",
      "Number of outliers:  631\n",
      "IQR of column  actor_1_facebook_likes : 10346.0\n",
      "Number of outliers:  165\n",
      "IQR of column  gross : 47673333.0\n",
      "Number of outliers:  398\n",
      "IQR of column  num_voted_users : 92421.0\n",
      "Number of outliers:  436\n",
      "IQR of column  cast_total_facebook_likes : 13046.0\n",
      "Number of outliers:  307\n",
      "IQR of column  num_user_for_reviews : 266.0\n",
      "Number of outliers:  367\n",
      "IQR of column  budget : 33280976.73635523\n",
      "Number of outliers:  400\n",
      "IQR of column  title_year : 11.0\n",
      "Number of outliers:  338\n",
      "IQR of column  imdb_score : 1.4000000000000004\n",
      "Number of outliers:  106\n",
      "IQR of column  aspect_ratio : 0.5\n",
      "Number of outliers:  5\n",
      "IQR of column  movie_facebook_likes : 6000.0\n",
      "Number of outliers:  756\n"
     ]
    },
    {
     "data": {
      "image/png": "[encoded data removed]",
      "text/plain": [
       "<Figure size 1080x1080 with 15 Axes>"
      ]
     },
     "metadata": {
      "needs_background": "light"
     },
     "output_type": "display_data"
    }
   ],
   "source": [
    "select_num = filtered_df.select_dtypes(include=['float64', 'int64'])\n",
    "colnames = list(select_num.columns)\n",
    "\n",
    "fig, axes = plt.subplots(nrows = int(np.shape(select_num)[1]/3), ncols = 3, figsize=(15,15))\n",
    "y = 0\n",
    "for name in colnames:\n",
    "    i, j = divmod(y, 3)\n",
    "    sns.boxplot(x=filtered_df[name], ax=axes[i, j])\n",
    "    Q1 = filtered_df[name].quantile(0.25)\n",
    "    Q3 = filtered_df[name].quantile(0.75)\n",
    "    IQR = Q3 - Q1\n",
    "    print('IQR of column ', name,':', IQR)\n",
    "    outliers_lower = filtered_df[name] < (Q1 - 1.5 * IQR)\n",
    "    outlier_higher = filtered_df[name] > (Q3 + 1.5 * IQR)\n",
    "    print('Number of outliers: ',sum(outliers_lower) + sum(outlier_higher))\n",
    "    #print(sum(outliers))\n",
    "    y = y + 1\n",
    "\n",
    "\n",
    "plt.tight_layout()\n",
    "plt.show()"
   ]
  },
  {
   "cell_type": "markdown",
   "metadata": {},
   "source": [
    "#### Secció 1.4. Exportació dades processades <a class=\"anchor\" id=\"secció_1_4_exportació_dades_processades\"></a>"
   ]
  },
  {
   "cell_type": "markdown",
   "metadata": {},
   "source": [
    "### Anàlisi de dades <a class=\"anchor\" id=\"anàlisi_de_dades\"></a>"
   ]
  },
  {
   "cell_type": "markdown",
   "metadata": {},
   "source": [
    "#### Secció 2.1. Selecció de grups <a class=\"anchor\" id=\"secció_2_1_selecció_de_grups\"></a>"
   ]
  },
  {
   "cell_type": "markdown",
   "metadata": {},
   "source": [
    "#### Secció 2.2. Comprovació normalitat i homogeneïtat de la variància <a class=\"anchor\" id=\"secció_2_2_comprovació_normalitat_i_homogeneïtat_de_la_variància\"></a>"
   ]
  },
  {
   "cell_type": "markdown",
   "metadata": {},
   "source": [
    "### Proves estadístiques <a class=\"anchor\" id=\"proves_estadístiques\"></a>"
   ]
  },
  {
   "cell_type": "code",
   "execution_count": null,
   "metadata": {},
   "outputs": [],
   "source": []
  },
  {
   "cell_type": "code",
   "execution_count": null,
   "metadata": {},
   "outputs": [],
   "source": []
  },
  {
   "cell_type": "code",
   "execution_count": null,
   "metadata": {},
   "outputs": [],
   "source": []
  }
 ],
 "metadata": {
  "kernelspec": {
   "display_name": "Python 3",
   "language": "python",
   "name": "python3"
  },
  "language_info": {
   "codemirror_mode": {
    "name": "ipython",
    "version": 3
   },
   "file_extension": ".py",
   "mimetype": "text/x-python",
   "name": "python",
   "nbconvert_exporter": "python",
   "pygments_lexer": "ipython3",
   "version": "3.8.2"
  }
 },
 "nbformat": 4,
 "nbformat_minor": 4
}
